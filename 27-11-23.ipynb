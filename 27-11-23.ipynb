{
 "cells": [
  {
   "cell_type": "markdown",
   "id": "315a5f6b",
   "metadata": {},
   "source": [
    "polymorphisms "
   ]
  },
  {
   "cell_type": "markdown",
   "id": "09f48b62",
   "metadata": {},
   "source": [
    "poly means many\n",
    "morphisms means forms\n",
    "#Overriding\n",
    "* Method overriding\n",
    "* Constructor\n",
    "#Overloading\n",
    "* method overloading(vanila,python doesnot support this)\n",
    "* constructor overloading(vanila python doesnot support this)\n",
    "* operator"
   ]
  },
  {
   "cell_type": "markdown",
   "id": "03072209",
   "metadata": {},
   "source": [
    " . The word \"polymorphism\" means \"many forms\", and in programming it refers to methods/functions/operators with the same name that can be executed on many objects or classes."
   ]
  },
  {
   "cell_type": "markdown",
   "id": "2ecc9085",
   "metadata": {},
   "source": [
    "Function Polymorphism\n",
    "An example of a Python function that can be used on different objects is the len() function. String For strings len() returns the number of characters:"
   ]
  },
  {
   "cell_type": "markdown",
   "id": "b10f5483",
   "metadata": {},
   "source": [
    "# Method overriding"
   ]
  },
  {
   "cell_type": "code",
   "execution_count": 2,
   "id": "f9bdc6d8",
   "metadata": {},
   "outputs": [],
   "source": [
    "class FooClass :\n",
    "    def __init__(self,a,b):\n",
    "        self.a = a\n",
    "        self.b = b\n",
    "    def foo(self):\n",
    "        print('Hello')"
   ]
  },
  {
   "cell_type": "code",
   "execution_count": 3,
   "id": "76a18fef",
   "metadata": {},
   "outputs": [
    {
     "name": "stdout",
     "output_type": "stream",
     "text": [
      "Hello\n"
     ]
    }
   ],
   "source": [
    "x = FooClass(5,10)\n",
    "x.foo()"
   ]
  },
  {
   "cell_type": "markdown",
   "id": "031b919d",
   "metadata": {},
   "source": [
    "# constructor and method overriding"
   ]
  },
  {
   "cell_type": "code",
   "execution_count": 5,
   "id": "39b31f4f",
   "metadata": {},
   "outputs": [],
   "source": [
    "class FooClass:\n",
    "    def __init__(self,a,b):\n",
    "        self.a = a\n",
    "        self.b = b\n",
    "    def foo(self):\n",
    "        print('Hello')\n",
    "    def __init__(self,a,b,c,d):\n",
    "        self.m = a+b\n",
    "        self.n = c+d\n",
    "    def foo(self):\n",
    "        print('Hello')\n",
    "    def foo(self):\n",
    "        print('Good Morning')"
   ]
  },
  {
   "cell_type": "code",
   "execution_count": 6,
   "id": "1666a088",
   "metadata": {},
   "outputs": [],
   "source": [
    "x = FooClass(5,10,10,5)"
   ]
  },
  {
   "cell_type": "code",
   "execution_count": 7,
   "id": "fbe442b5",
   "metadata": {},
   "outputs": [
    {
     "name": "stdout",
     "output_type": "stream",
     "text": [
      "Good Morning\n"
     ]
    }
   ],
   "source": [
    "x.foo()"
   ]
  },
  {
   "cell_type": "markdown",
   "id": "b3c435db",
   "metadata": {},
   "source": [
    "# constructor and method overriding using inheritance"
   ]
  },
  {
   "cell_type": "code",
   "execution_count": 13,
   "id": "56a9d89f",
   "metadata": {},
   "outputs": [
    {
     "name": "stdout",
     "output_type": "stream",
     "text": [
      "Bakki\n"
     ]
    }
   ],
   "source": [
    "class Xclass(FooClass):#In this the constructor is being inherited so we need to give 4 arguments \n",
    "    def foo(self):\n",
    "        print('Bakki')\n",
    "x=Xclass(10,5,10,9)\n",
    "x.foo()"
   ]
  },
  {
   "cell_type": "markdown",
   "id": "c8c1d2f0",
   "metadata": {},
   "source": [
    "# operator overriding"
   ]
  },
  {
   "cell_type": "markdown",
   "id": "dc1a429a",
   "metadata": {},
   "source": [
    "Operator Overloading means giving extended meaning beyond their predefined operational meaning."
   ]
  },
  {
   "cell_type": "code",
   "execution_count": 1,
   "id": "416630dc",
   "metadata": {},
   "outputs": [
    {
     "data": {
      "text/plain": [
       "[1, 2, 3, 1, 2, 3, 1, 2, 3, 1, 2, 3]"
      ]
     },
     "execution_count": 1,
     "metadata": {},
     "output_type": "execute_result"
    }
   ],
   "source": [
    "[1,2,3]*4"
   ]
  },
  {
   "cell_type": "code",
   "execution_count": 3,
   "id": "4626ca6e",
   "metadata": {},
   "outputs": [
    {
     "ename": "TypeError",
     "evalue": "can't multiply sequence by non-int of type 'list'",
     "output_type": "error",
     "traceback": [
      "\u001b[1;31m---------------------------------------------------------------------------\u001b[0m",
      "\u001b[1;31mTypeError\u001b[0m                                 Traceback (most recent call last)",
      "Cell \u001b[1;32mIn[3], line 1\u001b[0m\n\u001b[1;32m----> 1\u001b[0m [\u001b[38;5;241m5\u001b[39m,\u001b[38;5;241m2\u001b[39m,\u001b[38;5;241m4\u001b[39m]\u001b[38;5;241m*\u001b[39m[\u001b[38;5;241m1\u001b[39m,\u001b[38;5;241m2\u001b[39m,\u001b[38;5;241m3\u001b[39m]\n",
      "\u001b[1;31mTypeError\u001b[0m: can't multiply sequence by non-int of type 'list'"
     ]
    }
   ],
   "source": [
    "[5,2,4]*[1,2,3]"
   ]
  },
  {
   "cell_type": "code",
   "execution_count": 4,
   "id": "ab74eaf5",
   "metadata": {},
   "outputs": [
    {
     "data": {
      "text/plain": [
       "[4, 10, 18]"
      ]
     },
     "execution_count": 4,
     "metadata": {},
     "output_type": "execute_result"
    }
   ],
   "source": [
    "class MyList:\n",
    "    def __init__(self,value):\n",
    "        self.val = value\n",
    "    def __mul__(self,OtherMyList):\n",
    "        return [i*j for i,j in zip(self.val,OtherMyList.val)]\n",
    "x,y = MyList([1,2,3]),MyList([4,5,6])\n",
    "x*y"
   ]
  },
  {
   "cell_type": "code",
   "execution_count": 5,
   "id": "a0f8620f",
   "metadata": {},
   "outputs": [
    {
     "data": {
      "text/plain": [
       "False"
      ]
     },
     "execution_count": 5,
     "metadata": {},
     "output_type": "execute_result"
    }
   ],
   "source": [
    "class MyList:\n",
    "    def __init__(self,value):\n",
    "        self.val = value\n",
    "    def __ge__(self,OtherMyList):\n",
    "        return [i>j for i,j in zip(self.val,OtherMyList.val)]\n",
    "x,y = 2,3\n",
    "x>y"
   ]
  },
  {
   "cell_type": "markdown",
   "id": "ffbc3df5",
   "metadata": {},
   "source": [
    "# Method overloading "
   ]
  },
  {
   "cell_type": "markdown",
   "id": "56336bdc",
   "metadata": {},
   "source": [
    "Two or more methods have the same name but different numbers of parameters or different types of parameters, or both. These methods are called overloaded methods and this is called method overloading."
   ]
  },
  {
   "cell_type": "code",
   "execution_count": 6,
   "id": "6a4b2d02",
   "metadata": {},
   "outputs": [
    {
     "data": {
      "text/plain": [
       "(1, 2, 3, 4, 5, 6)"
      ]
     },
     "execution_count": 6,
     "metadata": {},
     "output_type": "execute_result"
    }
   ],
   "source": [
    "import multipledispatch\n",
    "from multipledispatch import dispatch\n",
    "(1,2,3)+(4,5,6)\n",
    "(1, 2, 3, 4, 5, 6)"
   ]
  },
  {
   "cell_type": "code",
   "execution_count": 7,
   "id": "e0f7f726",
   "metadata": {},
   "outputs": [
    {
     "data": {
      "text/plain": [
       "5"
      ]
     },
     "execution_count": 7,
     "metadata": {},
     "output_type": "execute_result"
    }
   ],
   "source": [
    "class MyClass:\n",
    "    def __init__(self,a,b):\n",
    "        self.a = a\n",
    "        self.b = b\n",
    "    @dispatch(int,int)\n",
    "    def foo(self,x,y):\n",
    "        return x + y\n",
    "    @dispatch(set,set)\n",
    "    def foo(self,m,n):\n",
    "        return m.union(n)\n",
    "    \n",
    "x = MyClass(5,10)\n",
    "x.foo(2,3)"
   ]
  },
  {
   "cell_type": "code",
   "execution_count": 8,
   "id": "63bd54b3",
   "metadata": {},
   "outputs": [
    {
     "data": {
      "text/plain": [
       "{1, 2, 3, 4, 5, 6}"
      ]
     },
     "execution_count": 8,
     "metadata": {},
     "output_type": "execute_result"
    }
   ],
   "source": [
    "x.foo({1,2,3},{4,5,6})"
   ]
  },
  {
   "cell_type": "code",
   "execution_count": 14,
   "id": "d7c928ca",
   "metadata": {},
   "outputs": [
    {
     "data": {
      "text/plain": [
       "5"
      ]
     },
     "execution_count": 14,
     "metadata": {},
     "output_type": "execute_result"
    }
   ],
   "source": [
    "class MyClass:\n",
    "    def __init__(self,a,b):\n",
    "        self.a = a\n",
    "        self.b = b\n",
    "    @dispatch(int,int)\n",
    "    def foo(self,x,y):\n",
    "        return x + y\n",
    "    @dispatch(set,set)\n",
    "    def foo(self,m,n):\n",
    "        return m.union(n)\n",
    "    @dispatch(str,str)\n",
    "    def foo(self,m,n):\n",
    "        return m+n\n",
    "    \n",
    "    \n",
    "x= MyClass(5,10)\n",
    "x.foo(2,3)"
   ]
  },
  {
   "cell_type": "code",
   "execution_count": 15,
   "id": "f17a60c7",
   "metadata": {},
   "outputs": [
    {
     "data": {
      "text/plain": [
       "'archanareddy'"
      ]
     },
     "execution_count": 15,
     "metadata": {},
     "output_type": "execute_result"
    }
   ],
   "source": [
    "x.foo('archana','reddy')\n"
   ]
  },
  {
   "cell_type": "code",
   "execution_count": 16,
   "id": "ca378852",
   "metadata": {},
   "outputs": [],
   "source": [
    "class MyClass:\n",
    "    def __init__(self,a,b):# example for constructor overloading\n",
    "        self.a = a\n",
    "        self.b = b\n",
    "    @dispatch(int,int)\n",
    "    def foo(self,x,y):\n",
    "        return x + y\n",
    "    @dispatch(set,set)\n",
    "    def foo(self,m,n):\n",
    "        return m.union(n)\n",
    "    @dispatch(str,str)\n",
    "    def foo(self,m,n):\n",
    "        return m+n\n",
    "    @dispatch(int,int,int)\n",
    "    def foo(self,m,n,o):\n",
    "        return (m*n)-o\n",
    "    "
   ]
  },
  {
   "cell_type": "code",
   "execution_count": 17,
   "id": "f82256cc",
   "metadata": {},
   "outputs": [
    {
     "data": {
      "text/plain": [
       "0"
      ]
     },
     "execution_count": 17,
     "metadata": {},
     "output_type": "execute_result"
    }
   ],
   "source": [
    "x= MyClass(5,10)\n",
    "x.foo(2,15,30)"
   ]
  },
  {
   "cell_type": "code",
   "execution_count": 18,
   "id": "84ca0157",
   "metadata": {},
   "outputs": [
    {
     "data": {
      "text/plain": [
       "{1, 2, 3, 4}"
      ]
     },
     "execution_count": 18,
     "metadata": {},
     "output_type": "execute_result"
    }
   ],
   "source": [
    "x.foo({1,2},{3,4})"
   ]
  },
  {
   "cell_type": "code",
   "execution_count": 19,
   "id": "36a37ec5",
   "metadata": {},
   "outputs": [
    {
     "data": {
      "text/plain": [
       "[3, 8]"
      ]
     },
     "execution_count": 19,
     "metadata": {},
     "output_type": "execute_result"
    }
   ],
   "source": [
    "class MyClass:\n",
    "    def __init__(self,a,b):#using method overloading\n",
    "        self.a = a\n",
    "        self.b = b\n",
    "    @dispatch(int,int)\n",
    "    def foo(self,x,y):\n",
    "        return x + y\n",
    "    @dispatch(set,set)\n",
    "    def foo(self,m,n):\n",
    "        return m.union(n)\n",
    "    @dispatch(str,str)\n",
    "    def foo(self,m,n):\n",
    "        return m+n\n",
    "    @dispatch(int,int,int)\n",
    "    def foo(self,m,n,o):\n",
    "        return (m*n)-o\n",
    "    @dispatch(list,list)\n",
    "    def foo(self,m,n):\n",
    "        return [i*j for i,j in zip(m,n)]\n",
    "    \n",
    "x=MyClass(5,10)\n",
    "x.foo([1,2],[3,4])"
   ]
  },
  {
   "cell_type": "code",
   "execution_count": 21,
   "id": "427d4cca",
   "metadata": {},
   "outputs": [
    {
     "data": {
      "text/plain": [
       "'abc str'"
      ]
     },
     "execution_count": 21,
     "metadata": {},
     "output_type": "execute_result"
    }
   ],
   "source": [
    "class Parent:\n",
    "    @dispatch(int,int)\n",
    "    def foo(self,x,y):\n",
    "        self.x= x *y\n",
    "    @dispatch(str,str)\n",
    "    def __init__(self,fname,lname):\n",
    "        self.name = fname+' '+lname\n",
    "    @dispatch(int,int)\n",
    "    def foo(self,x,y):\n",
    "        return x + y\n",
    "    @dispatch(set,set)\n",
    "    def foo(self,m,n):\n",
    "        return m.union(n)\n",
    "    @dispatch(str,str)\n",
    "    def foo(self,m,n):\n",
    "        return m+n\n",
    "    @dispatch(int,int,int)\n",
    "    def foo(self,m,n,o):\n",
    "        return (m*n)-o\n",
    "    \n",
    "class Child(Parent):\n",
    "    pass# in heritance the child class also inherits all the method overloading and constructor overloading\n",
    "x = Child('abc','str')\n",
    "x.name"
   ]
  },
  {
   "cell_type": "markdown",
   "id": "563349dc",
   "metadata": {},
   "source": [
    "# constructor overloading"
   ]
  },
  {
   "cell_type": "markdown",
   "id": "948cff55",
   "metadata": {},
   "source": [
    "Constructor overloading means more than one constructor in a class with the same name but a different argument (parameter). Python does not support Constructor overloading; it has no form of function."
   ]
  },
  {
   "cell_type": "markdown",
   "id": "922aae52",
   "metadata": {},
   "source": [
    "class MyData:\n",
    "    def __init__(self, data):\n",
    "        self.data = data\n",
    "\n",
    "    @classmethod\n",
    "    def fromfilename(cls, filename):\n",
    "        data = open(filename).readlines()\n",
    "        return cls(data)\n",
    "\n",
    "    @classmethod\n",
    "    def fromdict(cls, datadict):\n",
    "        return cls(datadict.items())"
   ]
  },
  {
   "cell_type": "code",
   "execution_count": null,
   "id": "1a6c3a26",
   "metadata": {},
   "outputs": [],
   "source": []
  },
  {
   "cell_type": "markdown",
   "id": "55c40c08",
   "metadata": {},
   "source": [
    "# Abstraction"
   ]
  },
  {
   "cell_type": "markdown",
   "id": "112a3582",
   "metadata": {},
   "source": [
    "An abstract class can be considered a blueprint for other classes. It allows you to create a set of methods that must be created within any child classes built from the abstract class. A class that contains one or more abstract methods is called an abstract class."
   ]
  },
  {
   "cell_type": "code",
   "execution_count": 1,
   "id": "4c534a53",
   "metadata": {},
   "outputs": [
    {
     "ename": "NameError",
     "evalue": "name 'abstractclassmethod' is not defined",
     "output_type": "error",
     "traceback": [
      "\u001b[1;31m---------------------------------------------------------------------------\u001b[0m",
      "\u001b[1;31mNameError\u001b[0m                                 Traceback (most recent call last)",
      "Cell \u001b[1;32mIn[1], line 3\u001b[0m\n\u001b[0;32m      1\u001b[0m \u001b[38;5;28;01mimport\u001b[39;00m \u001b[38;5;21;01mabc\u001b[39;00m\n\u001b[0;32m      2\u001b[0m \u001b[38;5;28;01mfrom\u001b[39;00m \u001b[38;5;21;01mabc\u001b[39;00m \u001b[38;5;28;01mimport\u001b[39;00m abstractmethod,ABC\n\u001b[1;32m----> 3\u001b[0m \u001b[38;5;28;01mclass\u001b[39;00m \u001b[38;5;21;01mBen10\u001b[39;00m(ABC):\u001b[38;5;66;03m#THIS PARENT CLASS IS AN ABSTRACT CLASS\u001b[39;00m\n\u001b[0;32m      4\u001b[0m     \u001b[38;5;129m@abstractclassmethod\u001b[39m\n\u001b[0;32m      5\u001b[0m     \u001b[38;5;28;01mdef\u001b[39;00m \u001b[38;5;21momniTransformation\u001b[39m(\u001b[38;5;28mself\u001b[39m):\n\u001b[0;32m      6\u001b[0m \u001b[38;5;250m        \u001b[39m\u001b[38;5;124;03m'''Yo Yo Honey Singh!'''\u001b[39;00m\n",
      "Cell \u001b[1;32mIn[1], line 4\u001b[0m, in \u001b[0;36mBen10\u001b[1;34m()\u001b[0m\n\u001b[0;32m      3\u001b[0m \u001b[38;5;28;01mclass\u001b[39;00m \u001b[38;5;21;01mBen10\u001b[39;00m(ABC):\u001b[38;5;66;03m#THIS PARENT CLASS IS AN ABSTRACT CLASS\u001b[39;00m\n\u001b[1;32m----> 4\u001b[0m     \u001b[38;5;129m@abstractclassmethod\u001b[39m\n\u001b[0;32m      5\u001b[0m     \u001b[38;5;28;01mdef\u001b[39;00m \u001b[38;5;21momniTransformation\u001b[39m(\u001b[38;5;28mself\u001b[39m):\n\u001b[0;32m      6\u001b[0m \u001b[38;5;250m        \u001b[39m\u001b[38;5;124;03m'''Yo Yo Honey Singh!'''\u001b[39;00m\n\u001b[0;32m      7\u001b[0m         \u001b[38;5;28;01mpass\u001b[39;00m\n",
      "\u001b[1;31mNameError\u001b[0m: name 'abstractclassmethod' is not defined"
     ]
    }
   ],
   "source": [
    "import abc\n",
    "from abc import abstractmethod,ABC\n",
    "class Ben10(ABC):#THIS PARENT CLASS IS AN ABSTRACT CLASS\n",
    "    @abstractclassmethod\n",
    "    def omniTransformation(self):\n",
    "        '''Yo Yo Honey Singh!'''\n",
    "        pass\n",
    "class DiamondHead(Ben10):\n",
    "    def omniTransformation(self):\n",
    "        '''DiamondHead'''\n",
    "        print('DiamondHead Transformation Done!')\n",
    "    \n",
    "x = DiamondHead()\n",
    "x.omniTransformation()"
   ]
  },
  {
   "cell_type": "markdown",
   "id": "fd9f4bee",
   "metadata": {},
   "source": [
    "# duck typing"
   ]
  },
  {
   "cell_type": "markdown",
   "id": "127d4e74",
   "metadata": {},
   "source": [
    "The main reason for using duck typing is to provide support for dynamic typing in Python programming. In Python, we don't need to specify the variable's data type and we can reassign the different data type values to same variable in further code\n",
    "If the method is present in other class also executes."
   ]
  },
  {
   "cell_type": "code",
   "execution_count": 4,
   "id": "a9c28d9f",
   "metadata": {},
   "outputs": [],
   "source": [
    "class Duck:\n",
    "    def quack(self):\n",
    "        print('quaack!')\n",
    "    def fly(self):\n",
    "        print('Flap-Flap')\n",
    "class DogDuck:\n",
    "    def quack(self):\n",
    "        print('Bowacck!')\n",
    "    def fly(self):\n",
    "        print('zoommm')\n",
    "    "
   ]
  },
  {
   "cell_type": "code",
   "execution_count": 5,
   "id": "772eb744",
   "metadata": {},
   "outputs": [],
   "source": [
    "def foo(x:Duck):\n",
    "    x.quack()"
   ]
  },
  {
   "cell_type": "code",
   "execution_count": 6,
   "id": "b30e7ada",
   "metadata": {},
   "outputs": [],
   "source": [
    "a,b =Duck(), DogDuck()"
   ]
  },
  {
   "cell_type": "code",
   "execution_count": 7,
   "id": "5ee99092",
   "metadata": {},
   "outputs": [
    {
     "name": "stdout",
     "output_type": "stream",
     "text": [
      "quaack!\n"
     ]
    }
   ],
   "source": [
    "foo(a)"
   ]
  },
  {
   "cell_type": "code",
   "execution_count": 8,
   "id": "c2f29457",
   "metadata": {},
   "outputs": [
    {
     "name": "stdout",
     "output_type": "stream",
     "text": [
      "Bowacck!\n"
     ]
    }
   ],
   "source": [
    "foo(b)"
   ]
  },
  {
   "cell_type": "code",
   "execution_count": null,
   "id": "b260162b",
   "metadata": {},
   "outputs": [],
   "source": []
  }
 ],
 "metadata": {
  "kernelspec": {
   "display_name": "Python 3 (ipykernel)",
   "language": "python",
   "name": "python3"
  },
  "language_info": {
   "codemirror_mode": {
    "name": "ipython",
    "version": 3
   },
   "file_extension": ".py",
   "mimetype": "text/x-python",
   "name": "python",
   "nbconvert_exporter": "python",
   "pygments_lexer": "ipython3",
   "version": "3.11.5"
  }
 },
 "nbformat": 4,
 "nbformat_minor": 5
}
